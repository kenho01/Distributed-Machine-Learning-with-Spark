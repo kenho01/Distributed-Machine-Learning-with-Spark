{
 "cells": [
  {
   "cell_type": "code",
   "execution_count": 326,
   "metadata": {},
   "outputs": [
    {
     "name": "stdout",
     "output_type": "stream",
     "text": [
      "Requirement already satisfied: pyspark in ./spark_mllib/lib/python3.12/site-packages (3.5.2)\n",
      "Requirement already satisfied: py4j==0.10.9.7 in ./spark_mllib/lib/python3.12/site-packages (from pyspark) (0.10.9.7)\n",
      "\n",
      "\u001b[1m[\u001b[0m\u001b[34;49mnotice\u001b[0m\u001b[1;39;49m]\u001b[0m\u001b[39;49m A new release of pip is available: \u001b[0m\u001b[31;49m24.0\u001b[0m\u001b[39;49m -> \u001b[0m\u001b[32;49m24.2\u001b[0m\n",
      "\u001b[1m[\u001b[0m\u001b[34;49mnotice\u001b[0m\u001b[1;39;49m]\u001b[0m\u001b[39;49m To update, run: \u001b[0m\u001b[32;49mpip install --upgrade pip\u001b[0m\n"
     ]
    }
   ],
   "source": [
    "!pip install pyspark"
   ]
  },
  {
   "cell_type": "code",
   "execution_count": 356,
   "metadata": {},
   "outputs": [],
   "source": [
    "from pyspark.sql import SparkSession\n",
    "\n",
    "spark = SparkSession.builder \\\n",
    "        .master(\"local\") \\\n",
    "        .appName(\"Spark MLlib\") \\\n",
    "        .config('spark.ui.port', '4040') \\\n",
    "        .getOrCreate()"
   ]
  },
  {
   "cell_type": "code",
   "execution_count": 357,
   "metadata": {},
   "outputs": [],
   "source": [
    "df = spark.read.format(\"csv\").load(\"ResaleflatpricesbasedonregistrationdatefromJan2017onwards.csv\", header=True, inferSchema=True)"
   ]
  },
  {
   "cell_type": "code",
   "execution_count": 358,
   "metadata": {},
   "outputs": [
    {
     "name": "stdout",
     "output_type": "stream",
     "text": [
      "root\n",
      " |-- month: timestamp (nullable = true)\n",
      " |-- town: string (nullable = true)\n",
      " |-- flat_type: string (nullable = true)\n",
      " |-- block: string (nullable = true)\n",
      " |-- street_name: string (nullable = true)\n",
      " |-- storey_range: string (nullable = true)\n",
      " |-- floor_area_sqm: double (nullable = true)\n",
      " |-- flat_model: string (nullable = true)\n",
      " |-- lease_commence_date: integer (nullable = true)\n",
      " |-- remaining_lease: string (nullable = true)\n",
      " |-- resale_price: double (nullable = true)\n",
      "\n"
     ]
    }
   ],
   "source": [
    "df.printSchema()"
   ]
  },
  {
   "cell_type": "code",
   "execution_count": 359,
   "metadata": {},
   "outputs": [
    {
     "name": "stdout",
     "output_type": "stream",
     "text": [
      "+-------------------+----------+---------+-----+-----------------+------------+--------------+--------------+-------------------+------------------+------------+\n",
      "|              month|      town|flat_type|block|      street_name|storey_range|floor_area_sqm|    flat_model|lease_commence_date|   remaining_lease|resale_price|\n",
      "+-------------------+----------+---------+-----+-----------------+------------+--------------+--------------+-------------------+------------------+------------+\n",
      "|2017-01-01 00:00:00|ANG MO KIO|   2 ROOM|  406|ANG MO KIO AVE 10|    10 TO 12|          44.0|      Improved|               1979|61 years 04 months|    232000.0|\n",
      "|2017-01-01 00:00:00|ANG MO KIO|   3 ROOM|  108| ANG MO KIO AVE 4|    01 TO 03|          67.0|New Generation|               1978|60 years 07 months|    250000.0|\n",
      "|2017-01-01 00:00:00|ANG MO KIO|   3 ROOM|  602| ANG MO KIO AVE 5|    01 TO 03|          67.0|New Generation|               1980|62 years 05 months|    262000.0|\n",
      "|2017-01-01 00:00:00|ANG MO KIO|   3 ROOM|  465|ANG MO KIO AVE 10|    04 TO 06|          68.0|New Generation|               1980| 62 years 01 month|    265000.0|\n",
      "|2017-01-01 00:00:00|ANG MO KIO|   3 ROOM|  601| ANG MO KIO AVE 5|    01 TO 03|          67.0|New Generation|               1980|62 years 05 months|    265000.0|\n",
      "|2017-01-01 00:00:00|ANG MO KIO|   3 ROOM|  150| ANG MO KIO AVE 5|    01 TO 03|          68.0|New Generation|               1981|          63 years|    275000.0|\n",
      "|2017-01-01 00:00:00|ANG MO KIO|   3 ROOM|  447|ANG MO KIO AVE 10|    04 TO 06|          68.0|New Generation|               1979|61 years 06 months|    280000.0|\n",
      "|2017-01-01 00:00:00|ANG MO KIO|   3 ROOM|  218| ANG MO KIO AVE 1|    04 TO 06|          67.0|New Generation|               1976|58 years 04 months|    285000.0|\n",
      "|2017-01-01 00:00:00|ANG MO KIO|   3 ROOM|  447|ANG MO KIO AVE 10|    04 TO 06|          68.0|New Generation|               1979|61 years 06 months|    285000.0|\n",
      "|2017-01-01 00:00:00|ANG MO KIO|   3 ROOM|  571| ANG MO KIO AVE 3|    01 TO 03|          67.0|New Generation|               1979|61 years 04 months|    285000.0|\n",
      "+-------------------+----------+---------+-----+-----------------+------------+--------------+--------------+-------------------+------------------+------------+\n",
      "only showing top 10 rows\n",
      "\n"
     ]
    }
   ],
   "source": [
    "df.show(10)"
   ]
  },
  {
   "cell_type": "code",
   "execution_count": 360,
   "metadata": {},
   "outputs": [
    {
     "data": {
      "text/plain": [
       "188947"
      ]
     },
     "execution_count": 360,
     "metadata": {},
     "output_type": "execute_result"
    }
   ],
   "source": [
    "from pyspark.sql.functions import monotonically_increasing_id\n",
    "df = df.withColumn('id', monotonically_increasing_id())\n",
    "df = df[['id'] + df.columns[:-1]]\n",
    "# df.show(10)\n",
    "df.count()"
   ]
  },
  {
   "cell_type": "code",
   "execution_count": 361,
   "metadata": {},
   "outputs": [
    {
     "name": "stdout",
     "output_type": "stream",
     "text": [
      "+---+-------------------+----------+---------+-----+-----------------+------------+--------------+--------------+-------------------+------------------+------------+\n",
      "| id|              month|      town|flat_type|block|      street_name|storey_range|floor_area_sqm|    flat_model|lease_commence_date|   remaining_lease|resale_price|\n",
      "+---+-------------------+----------+---------+-----+-----------------+------------+--------------+--------------+-------------------+------------------+------------+\n",
      "|  0|2017-01-01 00:00:00|ANG MO KIO|   2 ROOM|  406|ANG MO KIO AVE 10|    10 TO 12|          44.0|      Improved|               1979|61 years 04 months|    232000.0|\n",
      "|  1|2017-01-01 00:00:00|ANG MO KIO|   3 ROOM|  108| ANG MO KIO AVE 4|    01 TO 03|          67.0|New Generation|               1978|60 years 07 months|    250000.0|\n",
      "|  2|2017-01-01 00:00:00|ANG MO KIO|   3 ROOM|  602| ANG MO KIO AVE 5|    01 TO 03|          67.0|New Generation|               1980|62 years 05 months|    262000.0|\n",
      "|  3|2017-01-01 00:00:00|ANG MO KIO|   3 ROOM|  465|ANG MO KIO AVE 10|    04 TO 06|          68.0|New Generation|               1980| 62 years 01 month|    265000.0|\n",
      "|  4|2017-01-01 00:00:00|ANG MO KIO|   3 ROOM|  601| ANG MO KIO AVE 5|    01 TO 03|          67.0|New Generation|               1980|62 years 05 months|    265000.0|\n",
      "+---+-------------------+----------+---------+-----+-----------------+------------+--------------+--------------+-------------------+------------------+------------+\n",
      "only showing top 5 rows\n",
      "\n"
     ]
    }
   ],
   "source": [
    "df.show(5)"
   ]
  },
  {
   "cell_type": "code",
   "execution_count": 362,
   "metadata": {},
   "outputs": [],
   "source": [
    "from pyspark.sql.functions import regexp_extract, col, expr, coalesce, lit\n",
    "\n",
    "# Data transformation\n",
    "df = df.withColumn(\"remaining_lease_years\", regexp_extract(col(\"remaining_lease\"), r\"(\\d+) years\", 1).cast(\"int\")) \\\n",
    "  .withColumn(\"remaining_lease_months\", regexp_extract(col(\"remaining_lease\"), r\"(\\d+) month\", 1).cast(\"int\"))\n",
    "\n",
    "df = df.withColumn(\"remaining_lease_months\", coalesce(col(\"remaining_lease_months\"), lit(0)))\n",
    "\n",
    "df = df.withColumn(\"remaining_lease_in_months\", expr(\"remaining_lease_years * 12 + remaining_lease_months\"))\n"
   ]
  },
  {
   "cell_type": "code",
   "execution_count": 363,
   "metadata": {},
   "outputs": [],
   "source": [
    "df = df.drop('month', 'block', 'street_name', 'lease_commence_date', 'remaining_lease', 'remaining_lease_years', 'remaining_lease_months')"
   ]
  },
  {
   "cell_type": "code",
   "execution_count": 364,
   "metadata": {},
   "outputs": [
    {
     "name": "stdout",
     "output_type": "stream",
     "text": [
      "+---+----------+---------+------------+--------------+--------------+------------+-------------------------+\n",
      "| id|      town|flat_type|storey_range|floor_area_sqm|    flat_model|resale_price|remaining_lease_in_months|\n",
      "+---+----------+---------+------------+--------------+--------------+------------+-------------------------+\n",
      "|  0|ANG MO KIO|   2 ROOM|    10 TO 12|          44.0|      Improved|    232000.0|                      736|\n",
      "|  1|ANG MO KIO|   3 ROOM|    01 TO 03|          67.0|New Generation|    250000.0|                      727|\n",
      "|  2|ANG MO KIO|   3 ROOM|    01 TO 03|          67.0|New Generation|    262000.0|                      749|\n",
      "|  3|ANG MO KIO|   3 ROOM|    04 TO 06|          68.0|New Generation|    265000.0|                      745|\n",
      "|  4|ANG MO KIO|   3 ROOM|    01 TO 03|          67.0|New Generation|    265000.0|                      749|\n",
      "+---+----------+---------+------------+--------------+--------------+------------+-------------------------+\n",
      "only showing top 5 rows\n",
      "\n"
     ]
    }
   ],
   "source": [
    "# Variables used for training: \n",
    "    # Categorical: town, flat_type, storey_range, floor_area_sql, flat_model\n",
    "    # Numerical: floor_area_sql, remaining_lease_in_months\n",
    "# Predict resale_price\n",
    "df.show(5)"
   ]
  },
  {
   "cell_type": "code",
   "execution_count": 365,
   "metadata": {},
   "outputs": [
    {
     "data": {
      "text/plain": [
       "(DataFrame[id: bigint, town: string, flat_type: string, storey_range: string, floor_area_sqm: double, flat_model: string, resale_price: double, remaining_lease_in_months: int],\n",
       " DataFrame[id: bigint, town: string, flat_type: string, storey_range: string, floor_area_sqm: double, flat_model: string, resale_price: double, remaining_lease_in_months: int])"
      ]
     },
     "execution_count": 365,
     "metadata": {},
     "output_type": "execute_result"
    }
   ],
   "source": [
    "train, test = df.randomSplit([0.7, 0.3])\n",
    "train, test "
   ]
  },
  {
   "cell_type": "code",
   "execution_count": 366,
   "metadata": {},
   "outputs": [
    {
     "data": {
      "text/plain": [
       "['floor_area_sqm', 'remaining_lease_in_months']"
      ]
     },
     "execution_count": 366,
     "metadata": {},
     "output_type": "execute_result"
    }
   ],
   "source": [
    "numerical_features_lst = train.columns\n",
    "numerical_features_lst.remove('id')\n",
    "numerical_features_lst.remove('town')\n",
    "numerical_features_lst.remove('flat_type')\n",
    "numerical_features_lst.remove('storey_range')\n",
    "numerical_features_lst.remove('flat_model')\n",
    "numerical_features_lst.remove('resale_price')\n",
    "numerical_features_lst\n"
   ]
  },
  {
   "cell_type": "code",
   "execution_count": 367,
   "metadata": {},
   "outputs": [
    {
     "name": "stdout",
     "output_type": "stream",
     "text": [
      "+---+----------+---------+------------+--------------+--------------+------------+-------------------------+\n",
      "| id|      town|flat_type|storey_range|floor_area_sqm|    flat_model|resale_price|remaining_lease_in_months|\n",
      "+---+----------+---------+------------+--------------+--------------+------------+-------------------------+\n",
      "|  1|ANG MO KIO|   3 ROOM|    01 TO 03|          67.0|New Generation|    250000.0|                      727|\n",
      "|  2|ANG MO KIO|   3 ROOM|    01 TO 03|          67.0|New Generation|    262000.0|                      749|\n",
      "|  5|ANG MO KIO|   3 ROOM|    01 TO 03|          68.0|New Generation|    275000.0|                      756|\n",
      "+---+----------+---------+------------+--------------+--------------+------------+-------------------------+\n",
      "only showing top 3 rows\n",
      "\n"
     ]
    }
   ],
   "source": [
    "from pyspark.ml.feature import Imputer\n",
    "\n",
    "imputer = Imputer(inputCols=numerical_features_lst, outputCols=numerical_features_lst)\n",
    "imputer = imputer.fit(train)\n",
    "train = imputer.transform(train)\n",
    "test = imputer.transform(test)\n",
    "\n",
    "train.show(3)"
   ]
  },
  {
   "cell_type": "code",
   "execution_count": 368,
   "metadata": {},
   "outputs": [
    {
     "name": "stdout",
     "output_type": "stream",
     "text": [
      "+---+----------+---------+------------+--------------+--------------+------------+-------------------------+------------------------+\n",
      "| id|      town|flat_type|storey_range|floor_area_sqm|    flat_model|resale_price|remaining_lease_in_months|numerical_feature_vector|\n",
      "+---+----------+---------+------------+--------------+--------------+------------+-------------------------+------------------------+\n",
      "|  1|ANG MO KIO|   3 ROOM|    01 TO 03|          67.0|New Generation|    250000.0|                      727|            [67.0,727.0]|\n",
      "|  2|ANG MO KIO|   3 ROOM|    01 TO 03|          67.0|New Generation|    262000.0|                      749|            [67.0,749.0]|\n",
      "|  5|ANG MO KIO|   3 ROOM|    01 TO 03|          68.0|New Generation|    275000.0|                      756|            [68.0,756.0]|\n",
      "+---+----------+---------+------------+--------------+--------------+------------+-------------------------+------------------------+\n",
      "only showing top 3 rows\n",
      "\n"
     ]
    }
   ],
   "source": [
    "from pyspark.ml.feature import VectorAssembler \n",
    "numerical_vector_assembler = VectorAssembler(inputCols=numerical_features_lst, outputCol='numerical_feature_vector')\n",
    "train = numerical_vector_assembler.transform(train)\n",
    "test = numerical_vector_assembler.transform(test)\n",
    "train.show(3)"
   ]
  },
  {
   "cell_type": "code",
   "execution_count": 369,
   "metadata": {},
   "outputs": [
    {
     "name": "stderr",
     "output_type": "stream",
     "text": [
      "                                                                                \r"
     ]
    },
    {
     "name": "stdout",
     "output_type": "stream",
     "text": [
      "+---+----------+---------+------------+--------------+--------------+------------+-------------------------+------------------------+-------------------------------+\n",
      "| id|      town|flat_type|storey_range|floor_area_sqm|    flat_model|resale_price|remaining_lease_in_months|numerical_feature_vector|scaled_numerical_feature_vector|\n",
      "+---+----------+---------+------------+--------------+--------------+------------+-------------------------+------------------------+-------------------------------+\n",
      "|  1|ANG MO KIO|   3 ROOM|    01 TO 03|          67.0|New Generation|    250000.0|                      727|            [67.0,727.0]|           [-1.2502769573073...|\n",
      "|  2|ANG MO KIO|   3 ROOM|    01 TO 03|          67.0|New Generation|    262000.0|                      749|            [67.0,749.0]|           [-1.2502769573073...|\n",
      "|  5|ANG MO KIO|   3 ROOM|    01 TO 03|          68.0|New Generation|    275000.0|                      756|            [68.0,756.0]|           [-1.2086516869922...|\n",
      "+---+----------+---------+------------+--------------+--------------+------------+-------------------------+------------------------+-------------------------------+\n",
      "only showing top 3 rows\n",
      "\n"
     ]
    }
   ],
   "source": [
    "from pyspark.ml.feature import StandardScaler\n",
    "# Normal distribution\n",
    "scaler = StandardScaler(inputCol='numerical_feature_vector', outputCol='scaled_numerical_feature_vector', withStd=True, withMean=True)\n",
    "scaler = scaler.fit(train)\n",
    "train = scaler.transform(train)\n",
    "test = scaler.transform(test)\n",
    "train.show(3)"
   ]
  },
  {
   "cell_type": "code",
   "execution_count": 370,
   "metadata": {},
   "outputs": [
    {
     "data": {
      "text/plain": [
       "[Row(scaled_numerical_feature_vector=DenseVector([-1.2503, -0.9964])),\n",
       " Row(scaled_numerical_feature_vector=DenseVector([-1.2503, -0.8656])),\n",
       " Row(scaled_numerical_feature_vector=DenseVector([-1.2087, -0.824])),\n",
       " Row(scaled_numerical_feature_vector=DenseVector([-1.2087, -0.931])),\n",
       " Row(scaled_numerical_feature_vector=DenseVector([-1.2503, -1.1568]))]"
      ]
     },
     "execution_count": 370,
     "metadata": {},
     "output_type": "execute_result"
    }
   ],
   "source": [
    "train.select('scaled_numerical_feature_vector').take(5)"
   ]
  },
  {
   "cell_type": "code",
   "execution_count": 371,
   "metadata": {},
   "outputs": [
    {
     "data": {
      "text/plain": [
       "['town', 'flat_type', 'storey_range', 'flat_model']"
      ]
     },
     "execution_count": 371,
     "metadata": {},
     "output_type": "execute_result"
    }
   ],
   "source": [
    "categorical_features_lst = train.columns\n",
    "categorical_features_lst.remove('id')\n",
    "categorical_features_lst.remove('floor_area_sqm')\n",
    "categorical_features_lst.remove('remaining_lease_in_months')\n",
    "categorical_features_lst.remove('resale_price')\n",
    "categorical_features_lst.remove('numerical_feature_vector')\n",
    "categorical_features_lst.remove('scaled_numerical_feature_vector')\n",
    "categorical_features_lst\n"
   ]
  },
  {
   "cell_type": "code",
   "execution_count": 372,
   "metadata": {},
   "outputs": [
    {
     "name": "stdout",
     "output_type": "stream",
     "text": [
      "+---+----------+---------+------------+--------------+--------------+------------+-------------------------+------------------------+-------------------------------+----------+---------------+------------------+----------------+\n",
      "| id|      town|flat_type|storey_range|floor_area_sqm|    flat_model|resale_price|remaining_lease_in_months|numerical_feature_vector|scaled_numerical_feature_vector|town_index|flat_type_index|storey_range_index|flat_model_index|\n",
      "+---+----------+---------+------------+--------------+--------------+------------+-------------------------+------------------------+-------------------------------+----------+---------------+------------------+----------------+\n",
      "|  1|ANG MO KIO|   3 ROOM|    01 TO 03|          67.0|New Generation|    250000.0|                      727|            [67.0,727.0]|           [-1.2502769573073...|       9.0|            2.0|               3.0|             2.0|\n",
      "|  2|ANG MO KIO|   3 ROOM|    01 TO 03|          67.0|New Generation|    262000.0|                      749|            [67.0,749.0]|           [-1.2502769573073...|       9.0|            2.0|               3.0|             2.0|\n",
      "|  5|ANG MO KIO|   3 ROOM|    01 TO 03|          68.0|New Generation|    275000.0|                      756|            [68.0,756.0]|           [-1.2086516869922...|       9.0|            2.0|               3.0|             2.0|\n",
      "+---+----------+---------+------------+--------------+--------------+------------+-------------------------+------------------------+-------------------------------+----------+---------------+------------------+----------------+\n",
      "only showing top 3 rows\n",
      "\n"
     ]
    }
   ],
   "source": [
    "from pyspark.ml.feature import StringIndexer\n",
    "# Convert categorical variable to a particular value\n",
    "# Not sure why using a Pipeline doesn't work -> Workaround is to do manually since categorically variable is quite small\n",
    "indexer = StringIndexer(inputCol='town', outputCol='town_index')\n",
    "indexer = indexer.fit(train)\n",
    "train = indexer.transform(train)\n",
    "test = indexer.transform(test)\n",
    "\n",
    "indexer = StringIndexer(inputCol='flat_type', outputCol='flat_type_index')\n",
    "indexer = indexer.fit(train)\n",
    "train = indexer.transform(train)\n",
    "test = indexer.transform(test)\n",
    "\n",
    "indexer = StringIndexer(inputCol='storey_range', outputCol='storey_range_index')\n",
    "indexer = indexer.fit(train)\n",
    "train = indexer.transform(train)\n",
    "test = indexer.transform(test)\n",
    "\n",
    "indexer = StringIndexer(inputCol='flat_model', outputCol='flat_model_index')\n",
    "indexer = indexer.fit(train)\n",
    "train = indexer.transform(train)\n",
    "test = indexer.transform(test)\n",
    "\n",
    "train.show(3)\n"
   ]
  },
  {
   "cell_type": "code",
   "execution_count": 373,
   "metadata": {},
   "outputs": [
    {
     "data": {
      "text/plain": [
       "{Row(flat_model_index=0.0),\n",
       " Row(flat_model_index=1.0),\n",
       " Row(flat_model_index=2.0),\n",
       " Row(flat_model_index=3.0),\n",
       " Row(flat_model_index=4.0),\n",
       " Row(flat_model_index=5.0),\n",
       " Row(flat_model_index=6.0),\n",
       " Row(flat_model_index=7.0),\n",
       " Row(flat_model_index=8.0),\n",
       " Row(flat_model_index=9.0),\n",
       " Row(flat_model_index=10.0),\n",
       " Row(flat_model_index=11.0),\n",
       " Row(flat_model_index=12.0),\n",
       " Row(flat_model_index=13.0),\n",
       " Row(flat_model_index=14.0),\n",
       " Row(flat_model_index=15.0),\n",
       " Row(flat_model_index=16.0),\n",
       " Row(flat_model_index=17.0),\n",
       " Row(flat_model_index=18.0),\n",
       " Row(flat_model_index=19.0),\n",
       " Row(flat_model_index=20.0)}"
      ]
     },
     "execution_count": 373,
     "metadata": {},
     "output_type": "execute_result"
    }
   ],
   "source": [
    "set(train.select('flat_model_index').collect())"
   ]
  },
  {
   "cell_type": "code",
   "execution_count": 374,
   "metadata": {},
   "outputs": [
    {
     "name": "stdout",
     "output_type": "stream",
     "text": [
      "+---+----------+---------+------------+--------------+--------------+------------+-------------------------+------------------------+-------------------------------+----------+---------------+------------------+----------------+--------------+-----------------+--------------------+------------------+\n",
      "| id|      town|flat_type|storey_range|floor_area_sqm|    flat_model|resale_price|remaining_lease_in_months|numerical_feature_vector|scaled_numerical_feature_vector|town_index|flat_type_index|storey_range_index|flat_model_index|  town_one_hot|flat_type_one_hot|storey_range_one_hot|flat_model_one_hot|\n",
      "+---+----------+---------+------------+--------------+--------------+------------+-------------------------+------------------------+-------------------------------+----------+---------------+------------------+----------------+--------------+-----------------+--------------------+------------------+\n",
      "|  1|ANG MO KIO|   3 ROOM|    01 TO 03|          67.0|New Generation|    250000.0|                      727|            [67.0,727.0]|           [-1.2502769573073...|       9.0|            2.0|               3.0|             2.0|(25,[9],[1.0])|    (6,[2],[1.0])|      (16,[3],[1.0])|    (20,[2],[1.0])|\n",
      "|  2|ANG MO KIO|   3 ROOM|    01 TO 03|          67.0|New Generation|    262000.0|                      749|            [67.0,749.0]|           [-1.2502769573073...|       9.0|            2.0|               3.0|             2.0|(25,[9],[1.0])|    (6,[2],[1.0])|      (16,[3],[1.0])|    (20,[2],[1.0])|\n",
      "|  5|ANG MO KIO|   3 ROOM|    01 TO 03|          68.0|New Generation|    275000.0|                      756|            [68.0,756.0]|           [-1.2086516869922...|       9.0|            2.0|               3.0|             2.0|(25,[9],[1.0])|    (6,[2],[1.0])|      (16,[3],[1.0])|    (20,[2],[1.0])|\n",
      "+---+----------+---------+------------+--------------+--------------+------------+-------------------------+------------------------+-------------------------------+----------+---------------+------------------+----------------+--------------+-----------------+--------------------+------------------+\n",
      "only showing top 3 rows\n",
      "\n"
     ]
    }
   ],
   "source": [
    "from pyspark.ml.feature import OneHotEncoder\n",
    "one_hot_encoder = OneHotEncoder(inputCol='town_index', outputCol='town_one_hot')\n",
    "one_hot_encoder = one_hot_encoder.fit(train)\n",
    "train = one_hot_encoder.transform(train)\n",
    "test = one_hot_encoder.transform(test)\n",
    "\n",
    "one_hot_encoder = OneHotEncoder(inputCol='flat_type_index', outputCol='flat_type_one_hot')\n",
    "one_hot_encoder = one_hot_encoder.fit(train)\n",
    "train = one_hot_encoder.transform(train)\n",
    "test = one_hot_encoder.transform(test)\n",
    "\n",
    "one_hot_encoder = OneHotEncoder(inputCol='storey_range_index', outputCol='storey_range_one_hot')\n",
    "one_hot_encoder = one_hot_encoder.fit(train)\n",
    "train = one_hot_encoder.transform(train)\n",
    "test = one_hot_encoder.transform(test)\n",
    "\n",
    "one_hot_encoder = OneHotEncoder(inputCol='flat_model_index', outputCol='flat_model_one_hot')\n",
    "one_hot_encoder = one_hot_encoder.fit(train)\n",
    "train = one_hot_encoder.transform(train)\n",
    "test = one_hot_encoder.transform(test)\n",
    "\n",
    "train.show(3)"
   ]
  },
  {
   "cell_type": "code",
   "execution_count": 375,
   "metadata": {},
   "outputs": [
    {
     "name": "stdout",
     "output_type": "stream",
     "text": [
      "+---+----------+---------+------------+--------------+--------------+------------+-------------------------+------------------------+-------------------------------+----------+---------------+------------------+----------------+--------------+-----------------+--------------------+------------------+--------------------+\n",
      "| id|      town|flat_type|storey_range|floor_area_sqm|    flat_model|resale_price|remaining_lease_in_months|numerical_feature_vector|scaled_numerical_feature_vector|town_index|flat_type_index|storey_range_index|flat_model_index|  town_one_hot|flat_type_one_hot|storey_range_one_hot|flat_model_one_hot|final_feature_vector|\n",
      "+---+----------+---------+------------+--------------+--------------+------------+-------------------------+------------------------+-------------------------------+----------+---------------+------------------+----------------+--------------+-----------------+--------------------+------------------+--------------------+\n",
      "|  1|ANG MO KIO|   3 ROOM|    01 TO 03|          67.0|New Generation|    250000.0|                      727|            [67.0,727.0]|           [-1.2502769573073...|       9.0|            2.0|               3.0|             2.0|(25,[9],[1.0])|    (6,[2],[1.0])|      (16,[3],[1.0])|    (20,[2],[1.0])|(69,[0,1,11,29,36...|\n",
      "|  2|ANG MO KIO|   3 ROOM|    01 TO 03|          67.0|New Generation|    262000.0|                      749|            [67.0,749.0]|           [-1.2502769573073...|       9.0|            2.0|               3.0|             2.0|(25,[9],[1.0])|    (6,[2],[1.0])|      (16,[3],[1.0])|    (20,[2],[1.0])|(69,[0,1,11,29,36...|\n",
      "|  5|ANG MO KIO|   3 ROOM|    01 TO 03|          68.0|New Generation|    275000.0|                      756|            [68.0,756.0]|           [-1.2086516869922...|       9.0|            2.0|               3.0|             2.0|(25,[9],[1.0])|    (6,[2],[1.0])|      (16,[3],[1.0])|    (20,[2],[1.0])|(69,[0,1,11,29,36...|\n",
      "+---+----------+---------+------------+--------------+--------------+------------+-------------------------+------------------------+-------------------------------+----------+---------------+------------------+----------------+--------------+-----------------+--------------------+------------------+--------------------+\n",
      "only showing top 3 rows\n",
      "\n"
     ]
    }
   ],
   "source": [
    "# Combine numerical and categorical\n",
    "\n",
    "assembler = VectorAssembler(inputCols=['scaled_numerical_feature_vector', 'town_one_hot', 'flat_type_one_hot', 'storey_range_one_hot', 'flat_model_one_hot'],\n",
    "                            outputCol='final_feature_vector')\n",
    "train = assembler.transform(train)\n",
    "test = assembler.transform(test)\n",
    "train.show(3)"
   ]
  },
  {
   "cell_type": "code",
   "execution_count": 376,
   "metadata": {},
   "outputs": [
    {
     "data": {
      "text/plain": [
       "[Row(final_feature_vector=SparseVector(69, {0: -1.2503, 1: -0.9964, 11: 1.0, 29: 1.0, 36: 1.0, 51: 1.0})),\n",
       " Row(final_feature_vector=SparseVector(69, {0: -1.2503, 1: -0.8656, 11: 1.0, 29: 1.0, 36: 1.0, 51: 1.0})),\n",
       " Row(final_feature_vector=SparseVector(69, {0: -1.2087, 1: -0.824, 11: 1.0, 29: 1.0, 36: 1.0, 51: 1.0}))]"
      ]
     },
     "execution_count": 376,
     "metadata": {},
     "output_type": "execute_result"
    }
   ],
   "source": [
    "train.select('final_feature_vector').take(3)"
   ]
  },
  {
   "cell_type": "code",
   "execution_count": 377,
   "metadata": {},
   "outputs": [
    {
     "data": {
      "text/plain": [
       "LinearRegression_523a8d5730ca"
      ]
     },
     "execution_count": 377,
     "metadata": {},
     "output_type": "execute_result"
    }
   ],
   "source": [
    "from pyspark.ml.regression import LinearRegression\n",
    "\n",
    "lr = LinearRegression(featuresCol='final_feature_vector', \n",
    "                      labelCol='resale_price')\n",
    "lr"
   ]
  },
  {
   "cell_type": "code",
   "execution_count": 378,
   "metadata": {},
   "outputs": [
    {
     "name": "stderr",
     "output_type": "stream",
     "text": [
      "24/09/07 13:47:51 WARN Instrumentation: [efaee1e8] regParam is zero, which might cause numerical instability and overfitting.\n",
      "                                                                                \r"
     ]
    }
   ],
   "source": [
    "lr = lr.fit(train)"
   ]
  },
  {
   "cell_type": "code",
   "execution_count": 379,
   "metadata": {},
   "outputs": [
    {
     "name": "stdout",
     "output_type": "stream",
     "text": [
      "+---+----------+---------+------------+--------------+--------------+------------+-------------------------+------------------------+-------------------------------+----------+---------------+------------------+----------------+--------------+-----------------+--------------------+------------------+--------------------+----------------------+\n",
      "| id|      town|flat_type|storey_range|floor_area_sqm|    flat_model|resale_price|remaining_lease_in_months|numerical_feature_vector|scaled_numerical_feature_vector|town_index|flat_type_index|storey_range_index|flat_model_index|  town_one_hot|flat_type_one_hot|storey_range_one_hot|flat_model_one_hot|final_feature_vector|predicted_resale_price|\n",
      "+---+----------+---------+------------+--------------+--------------+------------+-------------------------+------------------------+-------------------------------+----------+---------------+------------------+----------------+--------------+-----------------+--------------------+------------------+--------------------+----------------------+\n",
      "|  1|ANG MO KIO|   3 ROOM|    01 TO 03|          67.0|New Generation|    250000.0|                      727|            [67.0,727.0]|           [-1.2502769573073...|       9.0|            2.0|               3.0|             2.0|(25,[9],[1.0])|    (6,[2],[1.0])|      (16,[3],[1.0])|    (20,[2],[1.0])|(69,[0,1,11,29,36...|    326577.15215997025|\n",
      "|  2|ANG MO KIO|   3 ROOM|    01 TO 03|          67.0|New Generation|    262000.0|                      749|            [67.0,749.0]|           [-1.2502769573073...|       9.0|            2.0|               3.0|             2.0|(25,[9],[1.0])|    (6,[2],[1.0])|      (16,[3],[1.0])|    (20,[2],[1.0])|(69,[0,1,11,29,36...|    333846.53872809064|\n",
      "|  5|ANG MO KIO|   3 ROOM|    01 TO 03|          68.0|New Generation|    275000.0|                      756|            [68.0,756.0]|           [-1.2086516869922...|       9.0|            2.0|               3.0|             2.0|(25,[9],[1.0])|    (6,[2],[1.0])|      (16,[3],[1.0])|    (20,[2],[1.0])|(69,[0,1,11,29,36...|    339097.60507496237|\n",
      "|  6|ANG MO KIO|   3 ROOM|    04 TO 06|          68.0|New Generation|    280000.0|                      738|            [68.0,738.0]|           [-1.2086516869922...|       9.0|            2.0|               0.0|             2.0|(25,[9],[1.0])|    (6,[2],[1.0])|      (16,[0],[1.0])|    (20,[2],[1.0])|(69,[0,1,11,29,33...|    351074.54975185846|\n",
      "|  7|ANG MO KIO|   3 ROOM|    04 TO 06|          67.0|New Generation|    285000.0|                      700|            [67.0,700.0]|           [-1.2502769573073...|       9.0|            2.0|               0.0|             2.0|(25,[9],[1.0])|    (6,[2],[1.0])|      (16,[0],[1.0])|    (20,[2],[1.0])|(69,[0,1,11,29,33...|     335580.2568771808|\n",
      "+---+----------+---------+------------+--------------+--------------+------------+-------------------------+------------------------+-------------------------------+----------+---------------+------------------+----------------+--------------+-----------------+--------------------+------------------+--------------------+----------------------+\n",
      "only showing top 5 rows\n",
      "\n"
     ]
    }
   ],
   "source": [
    "pred_train_df = lr.transform(train).withColumnRenamed('prediction', 'predicted_resale_price')\n",
    "pred_train_df.show(5)"
   ]
  },
  {
   "cell_type": "code",
   "execution_count": 380,
   "metadata": {},
   "outputs": [
    {
     "name": "stdout",
     "output_type": "stream",
     "text": [
      "+---+----------+---------+------------+--------------+--------------+------------+-------------------------+------------------------+-------------------------------+----------+---------------+------------------+----------------+--------------+-----------------+--------------------+------------------+--------------------+----------------------+\n",
      "| id|      town|flat_type|storey_range|floor_area_sqm|    flat_model|resale_price|remaining_lease_in_months|numerical_feature_vector|scaled_numerical_feature_vector|town_index|flat_type_index|storey_range_index|flat_model_index|  town_one_hot|flat_type_one_hot|storey_range_one_hot|flat_model_one_hot|final_feature_vector|predicted_resale_price|\n",
      "+---+----------+---------+------------+--------------+--------------+------------+-------------------------+------------------------+-------------------------------+----------+---------------+------------------+----------------+--------------+-----------------+--------------------+------------------+--------------------+----------------------+\n",
      "|  0|ANG MO KIO|   2 ROOM|    10 TO 12|          44.0|      Improved|    232000.0|                      736|            [44.0,736.0]|           [-2.2076581745545...|       9.0|            4.0|               2.0|             1.0|(25,[9],[1.0])|    (6,[4],[1.0])|      (16,[2],[1.0])|    (20,[1],[1.0])|(69,[0,1,11,31,35...|      245981.585143534|\n",
      "|  3|ANG MO KIO|   3 ROOM|    04 TO 06|          68.0|New Generation|    265000.0|                      745|            [68.0,745.0]|           [-1.2086516869922...|       9.0|            2.0|               0.0|             2.0|(25,[9],[1.0])|    (6,[2],[1.0])|      (16,[0],[1.0])|    (20,[2],[1.0])|(69,[0,1,11,29,33...|     353387.5363871695|\n",
      "|  4|ANG MO KIO|   3 ROOM|    01 TO 03|          67.0|New Generation|    265000.0|                      749|            [67.0,749.0]|           [-1.2502769573073...|       9.0|            2.0|               3.0|             2.0|(25,[9],[1.0])|    (6,[2],[1.0])|      (16,[3],[1.0])|    (20,[2],[1.0])|(69,[0,1,11,29,36...|    333846.53872809064|\n",
      "|  9|ANG MO KIO|   3 ROOM|    01 TO 03|          67.0|New Generation|    285000.0|                      736|            [67.0,736.0]|           [-1.2502769573073...|       9.0|            2.0|               3.0|             2.0|(25,[9],[1.0])|    (6,[2],[1.0])|      (16,[3],[1.0])|    (20,[2],[1.0])|(69,[0,1,11,29,36...|     329550.9921196558|\n",
      "| 10|ANG MO KIO|   3 ROOM|    01 TO 03|          68.0|New Generation|    288500.0|                      745|            [68.0,745.0]|           [-1.2086516869922...|       9.0|            2.0|               3.0|             2.0|(25,[9],[1.0])|    (6,[2],[1.0])|      (16,[3],[1.0])|    (20,[2],[1.0])|(69,[0,1,11,29,36...|    335462.91179090214|\n",
      "+---+----------+---------+------------+--------------+--------------+------------+-------------------------+------------------------+-------------------------------+----------+---------------+------------------+----------------+--------------+-----------------+--------------------+------------------+--------------------+----------------------+\n",
      "only showing top 5 rows\n",
      "\n"
     ]
    }
   ],
   "source": [
    "pred_test_df = lr.transform(test).withColumnRenamed('prediction', 'predicted_resale_price')\n",
    "pred_test_df.show(5)"
   ]
  },
  {
   "cell_type": "code",
   "execution_count": 381,
   "metadata": {},
   "outputs": [
    {
     "data": {
      "text/plain": [
       "[Row(predicted_resale_price=245981.585143534, resale_price=232000.0),\n",
       " Row(predicted_resale_price=353387.5363871695, resale_price=265000.0)]"
      ]
     },
     "execution_count": 381,
     "metadata": {},
     "output_type": "execute_result"
    }
   ],
   "source": [
    "predictions_and_actuals = pred_test_df[['predicted_resale_price', 'resale_price']]\n",
    "\n",
    "predictions_and_actuals_rdd = predictions_and_actuals.rdd\n",
    "predictions_and_actuals_rdd.take(2)\n"
   ]
  },
  {
   "cell_type": "code",
   "execution_count": 382,
   "metadata": {},
   "outputs": [
    {
     "data": {
      "text/plain": [
       "[(245981.585143534, 232000.0), (353387.5363871695, 265000.0)]"
      ]
     },
     "execution_count": 382,
     "metadata": {},
     "output_type": "execute_result"
    }
   ],
   "source": [
    "predictions_and_actuals_rdd = predictions_and_actuals_rdd.map(tuple)\n",
    "predictions_and_actuals_rdd.take(2)"
   ]
  },
  {
   "cell_type": "code",
   "execution_count": null,
   "metadata": {},
   "outputs": [],
   "source": [
    "from pyspark.mllib.evaluation import RegressionMetrics\n",
    "\n",
    "metrics = RegressionMetrics(predictions_and_actuals_rdd)\n",
    "s = '''\n",
    "Mean Squared Error:         {0}\n",
    "Root Mean Squared Error:    {1}\n",
    "Mean Absolute Error:        {2}\n",
    "R**2:                       {3}\n",
    "'''.format(metrics.meanSquaredError, metrics.rootMeanSquaredError, metrics.meanAbsoluteError, metrics.r2)\n",
    "\n",
    "print(s)"
   ]
  },
  {
   "cell_type": "code",
   "execution_count": null,
   "metadata": {},
   "outputs": [],
   "source": []
  },
  {
   "cell_type": "code",
   "execution_count": null,
   "metadata": {},
   "outputs": [],
   "source": []
  }
 ],
 "metadata": {
  "kernelspec": {
   "display_name": "spark_mllib",
   "language": "python",
   "name": "python3"
  },
  "language_info": {
   "codemirror_mode": {
    "name": "ipython",
    "version": 3
   },
   "file_extension": ".py",
   "mimetype": "text/x-python",
   "name": "python",
   "nbconvert_exporter": "python",
   "pygments_lexer": "ipython3",
   "version": "3.12.4"
  }
 },
 "nbformat": 4,
 "nbformat_minor": 2
}
